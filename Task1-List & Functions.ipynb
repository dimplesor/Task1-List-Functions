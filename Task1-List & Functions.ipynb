{
 "cells": [
  {
   "cell_type": "markdown",
   "id": "c264b42c-4ae8-4f86-9c1b-4e58e0b6b4b3",
   "metadata": {},
   "source": [
    "# LIST"
   ]
  },
  {
   "cell_type": "code",
   "execution_count": 4,
   "id": "ba3387b1-34af-438f-988d-13b268e1209c",
   "metadata": {},
   "outputs": [
    {
     "name": "stdout",
     "output_type": "stream",
     "text": [
      "['Apple', 'Banana', 'Orange', 'Grapes', 'Mango']\n"
     ]
    }
   ],
   "source": [
    "l1= ['Apple','Banana','Orange','Grapes','Mango']\n",
    "print(l1)\n"
   ]
  },
  {
   "cell_type": "code",
   "execution_count": 5,
   "id": "68748119-ddab-4ccd-8389-68ec7e3db0f8",
   "metadata": {},
   "outputs": [
    {
     "name": "stdout",
     "output_type": "stream",
     "text": [
      "['s1', 's2', 's3', [], 11, 4, 2.5294117647058822, 12]\n"
     ]
    }
   ],
   "source": [
    "l2= ['s1', 's2', 's3', [], 6+5, 8-4,86/34, 3*4]\n",
    "print(l2)"
   ]
  },
  {
   "cell_type": "code",
   "execution_count": 6,
   "id": "fe6fa4a1-2f98-4419-a3a7-ac279d1b44ff",
   "metadata": {},
   "outputs": [
    {
     "name": "stdout",
     "output_type": "stream",
     "text": [
      "['BMW', 'Ferrari', 'MG Hector', 'Skoda', 'Maruti', 'Punch-ev']\n"
     ]
    }
   ],
   "source": [
    "l3=['BMW','Ferrari', 'MG Hector','Skoda', 'Maruti', 'Punch-ev']\n",
    "print(l3)"
   ]
  },
  {
   "cell_type": "code",
   "execution_count": 11,
   "id": "bf33694a-5fff-4774-a99f-f0ffdea6e26e",
   "metadata": {},
   "outputs": [
    {
     "name": "stdout",
     "output_type": "stream",
     "text": [
      "['First Name', 'Last Name', 'DOB', 'Mobile No.', 'City', 'State']\n"
     ]
    }
   ],
   "source": [
    "l4=['First Name',\n",
    "    'Last Name',\n",
    "     'DOB',\n",
    "     'Mobile No.',\n",
    "     'City',\n",
    "     'State',]\n",
    "print(l4)"
   ]
  },
  {
   "cell_type": "code",
   "execution_count": null,
   "id": "cd383a42-143a-43f2-877d-74ec7f0d48b4",
   "metadata": {},
   "outputs": [],
   "source": []
  },
  {
   "cell_type": "markdown",
   "id": "53a2074a-1116-4440-8059-67b82bc1be9f",
   "metadata": {},
   "source": [
    "# FUNCTIONS"
   ]
  },
  {
   "cell_type": "markdown",
   "id": "6e3423f8-1dad-46ba-b238-58172f898687",
   "metadata": {},
   "source": [
    "### Math Functions:"
   ]
  },
  {
   "cell_type": "code",
   "execution_count": 12,
   "id": "238b0526-1fe4-4cac-84b7-74f89e41946c",
   "metadata": {},
   "outputs": [
    {
     "name": "stdout",
     "output_type": "stream",
     "text": [
      "inside function\n",
      "result=15\n",
      "final result\n",
      "15\n"
     ]
    }
   ],
   "source": [
    "def addvalue(x,y):\n",
    "    print('inside function')\n",
    "    result= x-y\n",
    "    print(f'result={result}')\n",
    "    return result\n",
    "\n",
    "addresult= addvalue(20,5)\n",
    "\n",
    "print('final result')\n",
    "print(addresult)"
   ]
  },
  {
   "cell_type": "code",
   "execution_count": 48,
   "id": "1b0b37da-d9d9-4a61-a498-ff1e1bfe6d93",
   "metadata": {},
   "outputs": [
    {
     "name": "stdout",
     "output_type": "stream",
     "text": [
      "390625\n"
     ]
    }
   ],
   "source": [
    "def calculate_power(base, exponent):\n",
    "    result = pow(5, 8)  \n",
    "    print(f'{result}={result}')\n",
    "    return result\n",
    "\n",
    "print(result)\n",
    "\n"
   ]
  },
  {
   "cell_type": "markdown",
   "id": "85a099e4-b1f4-4e6e-acc2-2584b6b066c6",
   "metadata": {},
   "source": [
    "### String Functions"
   ]
  },
  {
   "cell_type": "code",
   "execution_count": 49,
   "id": "a175abc1-55da-40cc-9c5c-432418536094",
   "metadata": {},
   "outputs": [
    {
     "name": "stdout",
     "output_type": "stream",
     "text": [
      "THIS IS A STRING FUNTIONS\n"
     ]
    }
   ],
   "source": [
    "text = \"This is a String Funtions\"\n",
    "uppercase_text = text.upper()\n",
    "\n",
    "print(uppercase_text)"
   ]
  },
  {
   "cell_type": "code",
   "execution_count": 50,
   "id": "61694634-9868-4c20-868a-0c84a6ac3010",
   "metadata": {},
   "outputs": [
    {
     "name": "stdout",
     "output_type": "stream",
     "text": [
      "this is a string funtions\n"
     ]
    }
   ],
   "source": [
    "text = \"This is a String Funtions\"\n",
    "lowercase_text = text.lower()\n",
    "\n",
    "print(lowercase_text)"
   ]
  },
  {
   "cell_type": "code",
   "execution_count": 51,
   "id": "85a2ad78-9eff-479c-9ce2-f1c23d13066d",
   "metadata": {},
   "outputs": [
    {
     "name": "stdout",
     "output_type": "stream",
     "text": [
      "The length of the string 'This is a String Funtions' is: 25\n"
     ]
    }
   ],
   "source": [
    "text = \"This is a String Funtions\"\n",
    "string_length = len(text)\n",
    "\n",
    "print(f\"The length of the string '{text}' is: {string_length}\") "
   ]
  },
  {
   "cell_type": "markdown",
   "id": "f9291d5c-75d4-4294-b3ef-8ce92c901c93",
   "metadata": {},
   "source": []
  },
  {
   "cell_type": "markdown",
   "id": "eb773859-831d-489d-b9cc-cb631ff2f0e5",
   "metadata": {},
   "source": [
    "### Logical Functions:"
   ]
  },
  {
   "cell_type": "code",
   "execution_count": 81,
   "id": "65dc90c0-076d-455e-a121-970252714b76",
   "metadata": {},
   "outputs": [
    {
     "name": "stdout",
     "output_type": "stream",
     "text": [
      "All elements in the list are True\n"
     ]
    }
   ],
   "source": [
    "data = [1,1,1] \n",
    "\n",
    "if all(l1):\n",
    "  print(\"All elements in the list are True\")\n",
    "else:\n",
    "  print(\"At least one element in the list is False\")\n"
   ]
  },
  {
   "cell_type": "code",
   "execution_count": 89,
   "id": "294100b5-c519-41c0-9cc0-8af9cae1a393",
   "metadata": {},
   "outputs": [
    {
     "name": "stdout",
     "output_type": "stream",
     "text": [
      "All elements in the list are True\n"
     ]
    }
   ],
   "source": [
    "data = [1,1,2] \n",
    "\n",
    "if all(l1):\n",
    "  print(\"All elements in the list are True\")\n",
    "else:\n",
    "  print(\"At least one element in the list is False\")\n"
   ]
  },
  {
   "cell_type": "code",
   "execution_count": null,
   "id": "0da3bdb8-2fdd-4c1c-bcec-14551d2d6f07",
   "metadata": {},
   "outputs": [],
   "source": []
  },
  {
   "cell_type": "markdown",
   "id": "67a8898b-9dfa-4241-a23f-8d7c851d47ad",
   "metadata": {},
   "source": [
    "### List Functions:"
   ]
  },
  {
   "cell_type": "code",
   "execution_count": 90,
   "id": "9cff55bb-57ad-4f06-90e5-249755c9c6c0",
   "metadata": {},
   "outputs": [
    {
     "name": "stdout",
     "output_type": "stream",
     "text": [
      "['P', 'i', 'n', 'a', 'p', 'p', 'l', 'e']\n"
     ]
    }
   ],
   "source": [
    "text = \"Pinapple\"\n",
    "text_list = list(text)\n",
    "\n",
    "print(text_list)\n"
   ]
  },
  {
   "cell_type": "code",
   "execution_count": 98,
   "id": "a2c2d609-6958-4445-8099-e6ec41706d10",
   "metadata": {},
   "outputs": [
    {
     "name": "stdout",
     "output_type": "stream",
     "text": [
      "['apple', 'banana', 'orange']\n"
     ]
    }
   ],
   "source": [
    "\n",
    "fruits = [\"apple\", \"banana\"]\n",
    "fruits.append(\"orange\")\n",
    "\n",
    "print(fruits)"
   ]
  },
  {
   "cell_type": "code",
   "execution_count": null,
   "id": "c5b2292e-28c4-4021-8678-30cc7a094d74",
   "metadata": {},
   "outputs": [],
   "source": []
  }
 ],
 "metadata": {
  "kernelspec": {
   "display_name": "Python 3 (ipykernel)",
   "language": "python",
   "name": "python3"
  },
  "language_info": {
   "codemirror_mode": {
    "name": "ipython",
    "version": 3
   },
   "file_extension": ".py",
   "mimetype": "text/x-python",
   "name": "python",
   "nbconvert_exporter": "python",
   "pygments_lexer": "ipython3",
   "version": "3.11.7"
  }
 },
 "nbformat": 4,
 "nbformat_minor": 5
}
